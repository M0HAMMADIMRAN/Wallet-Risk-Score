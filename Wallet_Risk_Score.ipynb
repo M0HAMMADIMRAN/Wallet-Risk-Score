{
 "cells": [
  {
   "cell_type": "code",
   "execution_count": 1,
   "id": "17356202-5427-4bfc-bc38-d34b797a7545",
   "metadata": {},
   "outputs": [
    {
     "name": "stdout",
     "output_type": "stream",
     "text": [
      "wallet_scores.csv generated successfully!\n"
     ]
    }
   ],
   "source": [
    "import pandas as pd\n",
    "import numpy as np\n",
    "import random\n",
    "\n",
    "# -------------------------\n",
    "# STEP 1: Load Wallet Data\n",
    "# -------------------------\n",
    "wallets = pd.read_csv(\"wallet_id.csv\")  # CSV containing \"wallet_id\" column\n",
    "\n",
    "# -------------------------\n",
    "# STEP 2: Mock Transaction Data\n",
    "# -------------------------\n",
    "# In a real-world scenario, you'd fetch data from Compound V2/V3 APIs or Etherscan.\n",
    "# For demonstration, we simulate features for each wallet:\n",
    "def fetch_wallet_features(wallet_id):\n",
    "    return {\n",
    "        \"tx_count\": random.randint(5, 200),           # Number of transactions\n",
    "        \"borrow_repay_ratio\": random.uniform(0, 1),   # 0 = perfect repay, 1 = only borrows\n",
    "        \"liquidation_count\": random.randint(0, 5),    # Number of times liquidated\n",
    "        \"avg_health_factor\": random.uniform(0.5, 2.5),# Higher = safer\n",
    "        \"wallet_age_days\": random.randint(30, 1000)   # Wallet age in days\n",
    "    }\n",
    "\n",
    "wallet_features = [fetch_wallet_features(w) for w in wallets[\"wallet_id\"]]\n",
    "features_df = pd.DataFrame(wallet_features)\n",
    "features_df[\"wallet_id\"] = wallets[\"wallet_id\"]\n",
    "\n",
    "# -------------------------\n",
    "# STEP 3: Feature Normalization\n",
    "# -------------------------\n",
    "def min_max_normalize(series):\n",
    "    return (series - series.min()) / (series.max() - series.min() + 1e-9)\n",
    "\n",
    "norm_features = pd.DataFrame()\n",
    "norm_features[\"tx_count\"] = min_max_normalize(features_df[\"tx_count\"])\n",
    "norm_features[\"borrow_repay_ratio\"] = features_df[\"borrow_repay_ratio\"]  # already 0-1\n",
    "norm_features[\"liquidation_rate\"] = min_max_normalize(features_df[\"liquidation_count\"])\n",
    "norm_features[\"health_factor\"] = min_max_normalize(features_df[\"avg_health_factor\"])\n",
    "norm_features[\"wallet_age\"] = min_max_normalize(features_df[\"wallet_age_days\"])\n",
    "\n",
    "# -------------------------\n",
    "# STEP 4: Risk Scoring Model\n",
    "# -------------------------\n",
    "# Define weights for risk indicators\n",
    "weights = {\n",
    "    \"borrow_repay_ratio\": 0.3,    # Higher ratio = riskier\n",
    "    \"liquidation_rate\": 0.3,      # More liquidations = riskier\n",
    "    \"health_factor\": -0.2,        # Higher health factor = safer\n",
    "    \"wallet_age\": -0.1,           # Older wallets = safer\n",
    "    \"tx_count\": -0.1              # More transactions = safer\n",
    "}\n",
    "\n",
    "# Calculate risk index\n",
    "risk_index = (\n",
    "    weights[\"borrow_repay_ratio\"] * norm_features[\"borrow_repay_ratio\"] +\n",
    "    weights[\"liquidation_rate\"] * norm_features[\"liquidation_rate\"] +\n",
    "    weights[\"health_factor\"] * (1 - norm_features[\"health_factor\"]) +\n",
    "    weights[\"wallet_age\"] * (1 - norm_features[\"wallet_age\"]) +\n",
    "    weights[\"tx_count\"] * (1 - norm_features[\"tx_count\"])\n",
    ")\n",
    "\n",
    "# Convert to score (0 to 1000)\n",
    "scores = (1 - risk_index) * 1000\n",
    "scores = np.clip(scores, 0, 1000)  # Ensure within bounds\n",
    "\n",
    "# -------------------------\n",
    "# STEP 5: Export Results\n",
    "# -------------------------\n",
    "final_scores = pd.DataFrame({\n",
    "    \"wallet_id\": features_df[\"wallet_id\"],\n",
    "    \"score\": scores.astype(int)\n",
    "})\n",
    "final_scores.to_csv(\"wallet_scores.csv\", index=False)\n",
    "\n",
    "print(\"wallet_scores.csv generated successfully!\")\n"
   ]
  },
  {
   "cell_type": "code",
   "execution_count": null,
   "id": "d4c1f919-463e-48cb-a969-c63d7a561640",
   "metadata": {},
   "outputs": [],
   "source": []
  }
 ],
 "metadata": {
  "kernelspec": {
   "display_name": "Python 3 (ipykernel)",
   "language": "python",
   "name": "python3"
  },
  "language_info": {
   "codemirror_mode": {
    "name": "ipython",
    "version": 3
   },
   "file_extension": ".py",
   "mimetype": "text/x-python",
   "name": "python",
   "nbconvert_exporter": "python",
   "pygments_lexer": "ipython3",
   "version": "3.12.1"
  }
 },
 "nbformat": 4,
 "nbformat_minor": 5
}
